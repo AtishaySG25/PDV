{
 "cells": [
  {
   "cell_type": "code",
   "execution_count": 4,
   "metadata": {},
   "outputs": [
    {
     "data": {
      "text/plain": [
       "[]"
      ]
     },
     "execution_count": 4,
     "metadata": {},
     "output_type": "execute_result"
    }
   ],
   "source": [
    "import requests\n",
    "from bs4 import BeautifulSoup\n",
    "from fake_useragent import UserAgent\n",
    "\n",
    "user_agent = UserAgent()\n",
    "main_url = 'https://www.bikewale.com/royalenfield-bikes/'\n",
    "page = requests.get(main_url, headers={'user-agent':user_agent.chrome})\n",
    "soup=BeautifulSoup(page.content,'lxml')\n",
    "\n",
    "base_url = 'https://www.bikewale.com/'\n",
    "\n",
    "all_divs = soup.find_all('div', class_ = 'o-fzoHFO o-fzoHCA V6Ln7D\"><div class=\"o-brXWGL o-bqHweY o-OisZk o-frwuxB b5G7MI o-eKWNKE o-brXWGL o-frwuxB o-OisZk o-bIMsfE o-ItVGT o-cpNAVm o-dprlnP o-fzptVd o-fzptYr o-fznJDS o-fznJFI o-fcaNGp  o-SoIQT o-bCRRBE o-fzptVd o-fzptYr o-bkmzIL o-fzptOu')\n",
    "all_divs\n"
   ]
  }
 ],
 "metadata": {
  "kernelspec": {
   "display_name": "AIMLSem1",
   "language": "python",
   "name": "python3"
  },
  "language_info": {
   "codemirror_mode": {
    "name": "ipython",
    "version": 3
   },
   "file_extension": ".py",
   "mimetype": "text/x-python",
   "name": "python",
   "nbconvert_exporter": "python",
   "pygments_lexer": "ipython3",
   "version": "3.9.17"
  },
  "orig_nbformat": 4
 },
 "nbformat": 4,
 "nbformat_minor": 2
}
