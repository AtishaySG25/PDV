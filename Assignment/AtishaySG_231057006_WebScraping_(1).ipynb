{
 "cells": [
  {
   "cell_type": "code",
   "execution_count": 2,
   "metadata": {},
   "outputs": [
    {
     "name": "stdout",
     "output_type": "stream",
     "text": [
      "Requirement already satisfied: bs4 in c:\\users\\atishay sg\\anaconda3\\envs\\aimlsem1\\lib\\site-packages (0.0.1)\n",
      "Requirement already satisfied: beautifulsoup4 in c:\\users\\atishay sg\\anaconda3\\envs\\aimlsem1\\lib\\site-packages (from bs4) (4.12.2)\n",
      "Requirement already satisfied: soupsieve>1.2 in c:\\users\\atishay sg\\anaconda3\\envs\\aimlsem1\\lib\\site-packages (from beautifulsoup4->bs4) (2.4.1)\n",
      "Note: you may need to restart the kernel to use updated packages.\n"
     ]
    }
   ],
   "source": [
    "pip install bs4"
   ]
  },
  {
   "cell_type": "code",
   "execution_count": 3,
   "metadata": {},
   "outputs": [
    {
     "name": "stdout",
     "output_type": "stream",
     "text": [
      "Requirement already satisfied: requests in c:\\users\\atishay sg\\anaconda3\\envs\\aimlsem1\\lib\\site-packages (2.31.0)\n",
      "Requirement already satisfied: charset-normalizer<4,>=2 in c:\\users\\atishay sg\\anaconda3\\envs\\aimlsem1\\lib\\site-packages (from requests) (3.2.0)\n",
      "Requirement already satisfied: idna<4,>=2.5 in c:\\users\\atishay sg\\anaconda3\\envs\\aimlsem1\\lib\\site-packages (from requests) (3.4)\n",
      "Requirement already satisfied: urllib3<3,>=1.21.1 in c:\\users\\atishay sg\\anaconda3\\envs\\aimlsem1\\lib\\site-packages (from requests) (2.0.4)\n",
      "Requirement already satisfied: certifi>=2017.4.17 in c:\\users\\atishay sg\\anaconda3\\envs\\aimlsem1\\lib\\site-packages (from requests) (2023.7.22)\n",
      "Note: you may need to restart the kernel to use updated packages.\n"
     ]
    }
   ],
   "source": [
    "pip install requests"
   ]
  },
  {
   "cell_type": "code",
   "execution_count": 5,
   "metadata": {},
   "outputs": [
    {
     "name": "stdout",
     "output_type": "stream",
     "text": [
      "Requirement already satisfied: texttable in c:\\users\\atishay sg\\anaconda3\\envs\\aimlsem1\\lib\\site-packages (1.6.7)\n",
      "Note: you may need to restart the kernel to use updated packages.\n"
     ]
    }
   ],
   "source": [
    "pip install texttable       "
   ]
  },
  {
   "cell_type": "code",
   "execution_count": 10,
   "metadata": {},
   "outputs": [
    {
     "name": "stdout",
     "output_type": "stream",
     "text": [
      "<title>Chicken Biryani Recipe - Swasthi's Recipes</title>\n",
      "Ingredients (US cup = 240ml )Marinade for chicken biryani▢ ½ kg chicken (1.l lbs)▢ 3 tablespoons plain yogurt (curd or dahi)▢ 1¼ tablespoons ginger garlic paste (1 inch ginger & 4 garlic cloves crushed)▢ ½ to ¾ teaspoon salt (adjust to tase)▢ ¼ teaspoon turmeric ▢ ½ to 1 teaspoon red chilli powder  (or paprika) (use less spicy variety)▢ ½ to 1 tablespoon garam masala (or biryani masala) (Refer notes)▢ 1 tablespoon Lemon juice  (optional)Whole spices (skip if you don’t have any)▢ 1 bay leaf  (tej patta)▢ 4 green cardamoms (choti elaichi)▢ 6 cloves (lavang)▢ 1 inch cinnamon (dalchini)▢ 1 star anise (chakri phool )▢ ¾ teaspoon shahi jeera (caraway seeds) (substitute with cumin)▢ 1 strand mace  (javitri)Other ingredients for chicken biryani▢ 2 cups basmati rice (aged rice only)▢ 2 tablespoon ghee or Oil▢ 1 large onion  sliced thinly▢ ¼ to ½ cup mint leaves chopped fine (about 15 leaves)▢ 1 green chili (slit or chopped)▢ ¼ cup plain yogurt (Indian curd)▢ ¼ to ½ teaspoon red chili powder  (optional, for heat)▢ 1 teaspoon garam masala (or biryani masala)▢ 3 cups water (or coconut milk, 3½ cups for pot) (refer notes, more if needed )▢ ¾ teaspoon salt (to stir in water)▢ 2 tablespoon fried onions (optional)▢ 1 pinch saffron (optional)(soaked in 2 tbsps hot milk)\n",
      "\n",
      "\n",
      "\n",
      "\n",
      "Chicken Biryani Recipe\n",
      "\n",
      "\n",
      "\n",
      "\n",
      "Aromatic, delicious and spicy one pot chicken biryani made with basmati rice, spices, chicken and herbs. This is a beginners recipe and can be made with ease. Serve chicken biryani with raita or salan (gravy).\n",
      " Print Recipe\n",
      " Pin Recipe\n",
      "1x2x3x\n",
      " Jump to Comments\n",
      "\n",
      "Cook ModePrevent your screen from going dark\n",
      " \n",
      "For best results follow the step-by-step photos above the recipe card\n",
      "\n",
      "\n",
      "\n",
      "\n",
      "Prep Time1 hour hourCook Time25 minutes minutesTotal Time1 hour hour 25 minutes minutes\n",
      "Servings4 people\n",
      "AuthorSwasthi\n",
      "\n",
      "\n",
      "Ingredients (US cup = 240ml )Marinade for chicken biryani▢ ½ kg chicken (1.l lbs)▢ 3 tablespoons plain yogurt (curd or dahi)▢ 1¼ tablespoons ginger garlic paste (1 inch ginger & 4 garlic cloves crushed)▢ ½ to ¾ teaspoon salt (adjust to tase)▢ ¼ teaspoon turmeric ▢ ½ to 1 teaspoon red chilli powder  (or paprika) (use less spicy variety)▢ ½ to 1 tablespoon garam masala (or biryani masala) (Refer notes)▢ 1 tablespoon Lemon juice  (optional)Whole spices (skip if you don’t have any)▢ 1 bay leaf  (tej patta)▢ 4 green cardamoms (choti elaichi)▢ 6 cloves (lavang)▢ 1 inch cinnamon (dalchini)▢ 1 star anise (chakri phool )▢ ¾ teaspoon shahi jeera (caraway seeds) (substitute with cumin)▢ 1 strand mace  (javitri)Other ingredients for chicken biryani▢ 2 cups basmati rice (aged rice only)▢ 2 tablespoon ghee or Oil▢ 1 large onion  sliced thinly▢ ¼ to ½ cup mint leaves chopped fine (about 15 leaves)▢ 1 green chili (slit or chopped)▢ ¼ cup plain yogurt (Indian curd)▢ ¼ to ½ teaspoon red chili powder  (optional, for heat)▢ 1 teaspoon garam masala (or biryani masala)▢ 3 cups water (or coconut milk, 3½ cups for pot) (refer notes, more if needed )▢ ¾ teaspoon salt (to stir in water)▢ 2 tablespoon fried onions (optional)▢ 1 pinch saffron (optional)(soaked in 2 tbsps hot milk)\n",
      "\n",
      "\n",
      "\n",
      "\n",
      "\n",
      "\n",
      "\n",
      "\n",
      "\n",
      "\n",
      "\n",
      "InstructionsPreparation▢ To a bowl, add yogurt, ginger garlic paste, salt, garam masala, turmeric, lemon juice & red chili powder.▢ Mix up well and taste the marinade. Add more salt and spice if needed.▢ Make slits on the chicken pieces. Add it to the marinade & mix well. Cover and set aside for 1 hour to overnight. ▢ Rinse basmati rice thrice and soak for 30 mins. Drain to a colander after 30 mins.How to make Chicken Biryani▢ Heat ghee or oil in a pot or pressure cooker.▢ Add whole spices – bay leaf, cardamoms, cloves, cinnamon, star anise, shahi jeera & mace. Skip them if you do not have.▢ When the spices begin to sizzle, add onions & fry them evenly stirring often until uniformly light brown but not burnt.▢ Add chicken & saute until pale for 5 mins on a medium heat. ▢ Cover & cook on a low flame until the chicken is soft cooked or tender. Saute to evaporate any excess moisture in the pot. ▢ Taste test and add more salt if needed. Add yogurt (curd), half of the chopped mint leaves, slit green chili, red chili powder & garam masala.½ to 1 teaspoon red chilli powder, 1 green chili, ¼ cup plain yogurt, 1 teaspoon garam masalaLayering ▢ Mix everything well and layer chicken evenly at the bottom. (check video)▢ Spread drained rice in a layer over the chicken.▢ To a separate pot, pour water. If cooking in a pot use more water.▢ Add salt and mix. Taste the water. It must be slightly salty. Bring this to a rolling boil.▢ Pour 2 cups of this water across the sides of the cooker or pot. Gently pour the rest on top of the rice. (check video)▢ Level the rice if needed. Sprinkle the rest of the mint leaves. Optionally add fried onions & saffron soaked milk if using.▢ Pot method – If cooking in a pot, cover and cook on a medium flame until the rice in the chicken biryani is cooked completely but not mushy or undercooked. If the rice is still under cooked or hard & there is no water at the bottom, pour ¼ to ½ cup more boiling water depending on the kind of rice used and cook further. When done it has to be fully cooked, yet remain grainy but not mushy.▢ Cooker method – Set the flame to medium high. Cover & place the whistle. Cook until you hear 1 whistle. Move the cooker away from the burner to stop cooking further. ▢ Rest until the pressure drops naturally. Fluff up the chicken biryani with a fork. ▢ Serve from top to the bottom layer. Each serving gets biryani rice from top and chicken from the bottom layer. ▢ Enjoy chicken biryani with raita and sliced veggies, papad and shorba (biryani gravy).\n",
      "\n",
      "\n",
      "\n",
      "\n",
      "\n",
      "\n",
      "\n",
      "\n",
      "\n",
      "\n",
      "\n",
      "NotesWater: The amount of water to use depends on the brand of basmati rice. Not all basmati rice need the same amount of water. So for pot method, start with 3 cups water. Towards the end if the rice is undercooked, pour ¼ to ½ cup boiling water and cook further. You will need to experiment a bit with the right amount here.\n",
      "Tomatoes: An authentic biryani never uses tomatoes, so I have not used in the recipe. It does not add any taste infact alters the flavor. If you still want to use you an follow the second recipe I have posted below.\n",
      "To make biryani masala or garam masala – Powder together very small piece of nutmeg, 5 cardamoms, ½ tsp pepper, 5 cloves, 1 to 2 inch cinnamon, ½ tsp fennel seeds, ½ tsp stone flower.\n",
      "Yogurt or curd: Do not use sour curd. If the curd is slightly sour then skip using lemon juice.\n",
      "Rice: I have used lalquilla basmati rice, old malai. Any other basmati rice may need less or more water. Make sure to use as needed.\n",
      "\n",
      "\n",
      "Alternative quantities provided in the recipe card are for 1x only, original recipe.\n",
      "\n",
      "For best results follow my detailed step-by-step photo instructions and tips above the recipe card.\n",
      "Video\n",
      "NUTRITION INFO (estimation only)\n",
      "Nutrition Facts\n",
      "Chicken Biryani Recipe\n",
      "\n",
      "\n",
      "\t\t\t\t\tAmount Per Serving\t\t\t\t\t\t\n",
      "\n",
      "Calories 753\n",
      "Calories from Fat 261\n",
      "\n",
      "\n",
      "\n",
      "% Daily Value*\n",
      "\n",
      "Fat 29g45%Saturated Fat 10g63%Cholesterol 114mg38%Sodium 1062mg46%Potassium 550mg16%Carbohydrates 86g29%Fiber 4g17%Sugar 2g2%Protein 34g68% \n",
      "Vitamin A 695IU14%Vitamin C 10.1mg12%Calcium 132mg13%Iron 4.3mg24% * Percent Daily Values are based on a 2000 calorie diet.\n",
      "\n",
      "\n",
      " Tried this recipe?Mention @SwasthisRecipes or tag #swasthisrecipes!\n",
      "\n",
      " © Swasthi’s Recipes \n"
     ]
    }
   ],
   "source": [
    "import requests\n",
    "from bs4 import BeautifulSoup\n",
    "\n",
    "recipe = requests.get(\"https://www.indianhealthyrecipes.com/chicken-biryani-recipe/\")\n",
    "soup = BeautifulSoup(recipe.text, 'html')\n",
    "\n",
    "# Find the <title> tag within the parsed HTML content and print it\n",
    "print(soup.find('title'))  # Find the <title> tag within the parsed HTML content and print it\n",
    "\n",
    "# Find all <div> elements with the specified class\n",
    "recipe_contents = soup.find_all(\"div\",class_ = 'wprm-recipe-ingredients-container wprm-recipe-ingredients-no-images wprm-recipe-38860-ingredients-container wprm-block-text-normal wprm-ingredient-style-regular wprm-recipe-images-before')\n",
    "for i in recipe_contents:\n",
    "    print(i.text)\n",
    "\n",
    "# Iterate through the list of found <div> elements\n",
    " # Print the text content of each <div> element, which likely represents recipe overview\n",
    "overview = soup.find_all('div', class_ = 'wprm-recipe wprm-recipe-template-ihr-boxes')\n",
    "for z in overview:\n",
    "    print(z.text)"
   ]
  },
  {
   "cell_type": "markdown",
   "metadata": {},
   "source": [
    "Save the scraped HTML content as CSV"
   ]
  },
  {
   "cell_type": "code",
   "execution_count": 12,
   "metadata": {},
   "outputs": [],
   "source": [
    "import csv"
   ]
  },
  {
   "cell_type": "code",
   "execution_count": 14,
   "metadata": {},
   "outputs": [
    {
     "name": "stdout",
     "output_type": "stream",
     "text": [
      "Data is extracted to recipe.csv\n"
     ]
    }
   ],
   "source": [
    "# Create a list to store the extracted content\n",
    "contents = []\n",
    "\n",
    "# Extract and store the text content from the div elements\n",
    "for div in overview:\n",
    "    contents.append(div.get_text(strip=True))\n",
    "\n",
    "filename = 'recipe.csv'\n",
    "with open(filename, 'w', newline='') as f:\n",
    "    writer = csv.writer(f)\n",
    "    writer.writerow(['Extracted Content'])\n",
    "    writer.writerows([[content] for content in contents])  # Use 'content' instead of 'value'\n",
    "\n",
    "    print(\"Data is extracted to\", filename)\n",
    "\n"
   ]
  },
  {
   "cell_type": "code",
   "execution_count": null,
   "metadata": {},
   "outputs": [],
   "source": []
  },
  {
   "cell_type": "code",
   "execution_count": null,
   "metadata": {},
   "outputs": [],
   "source": []
  },
  {
   "cell_type": "code",
   "execution_count": null,
   "metadata": {},
   "outputs": [],
   "source": []
  }
 ],
 "metadata": {
  "kernelspec": {
   "display_name": "AIMLSem1",
   "language": "python",
   "name": "python3"
  },
  "language_info": {
   "codemirror_mode": {
    "name": "ipython",
    "version": 3
   },
   "file_extension": ".py",
   "mimetype": "text/x-python",
   "name": "python",
   "nbconvert_exporter": "python",
   "pygments_lexer": "ipython3",
   "version": "3.9.17"
  },
  "orig_nbformat": 4
 },
 "nbformat": 4,
 "nbformat_minor": 2
}
